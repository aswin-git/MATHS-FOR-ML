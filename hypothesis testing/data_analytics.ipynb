{
 "cells": [
  {
   "cell_type": "code",
   "execution_count": null,
   "metadata": {},
   "outputs": [],
   "source": [
    "import pandas as pd \n",
    "from io import StringIO\n",
    "\n",
    "df = pd.read_csv(\"Car_sales.csv\")\n",
    "\n",
    "# Clean data \n",
    "df = df.dropna(subset=['Sales in thousands', 'Vehicle type'])\n",
    "\n",
    "# Split into groups\n",
    "passenger_sales = df[df['Vehicle type'] == 'Passenger']['Sales in thousands']\n",
    "car_sales = df[df['Vehicle type'] == 'Car']['Sales in thousands']\n",
    "\n"
   ]
  },
  {
   "cell_type": "code",
   "execution_count": 20,
   "metadata": {},
   "outputs": [],
   "source": [
    "from scipy.stats import t\n",
    "import numpy as np\n",
    "\n",
    "def t_test(s1,s2):\n",
    "\n",
    "    # Sample data for two groups\n",
    "    sample1 = s1.iloc[::4]\n",
    "    sample2 = s2.iloc[::2]\n",
    "\n",
    "\n",
    "    alpha = 0.05  # Significance level\n",
    "\n",
    "    # Calculate group statistics\n",
    "    n1 = len(sample1)\n",
    "    n2 = len(sample2)\n",
    "    mean1 = np.mean(sample1)\n",
    "    mean2 = np.mean(sample2)\n",
    "    std1 = np.std(sample1, ddof=1)  # Sample std (ddof=1)\n",
    "    std2 = np.std(sample2, ddof=1)\n",
    "\n",
    "    # t-statistic calculation\n",
    "    t_stat = (mean1 - mean2) / np.sqrt((std1**2 / n1) + (std2**2 / n2))\n",
    "\n",
    "    # degrees of freedom\n",
    "    df = (\n",
    "        ((std1**2 / n1) + (std2**2 / n2))**2 / \n",
    "        ((std1**4 / (n1**2 * (n1 - 1))) + (std2**4 / (n2**2 * (n2 - 1))))\n",
    "    )\n",
    "\n",
    "    # critical t-value\n",
    "    t_critical = t.ppf(1 - alpha/2, df)\n",
    "\n",
    "    # Results\n",
    "    print(f\"Group 1: Mean = {mean1:.1f}, Std = {std1:.1f}, n = {n1}\")\n",
    "    print(f\"Group 2: Mean = {mean2:.1f}, Std = {std2:.1f}, n = {n2}\")\n",
    "    print(f\"t-statistic = {t_stat:.2f}\")\n",
    "    print(f\"Critical t-value = +or-{abs(t_critical):.2f}\")\n",
    "\n",
    "    # Hypothesis testing\n",
    "    if abs(t_stat) > t_critical:\n",
    "        print(\"REJECT THE NULL HYPOTHESIS\")\n",
    "    else:\n",
    "        print(\"FAIL TO REJECT THE NULL HYPOTHESIS\")"
   ]
  },
  {
   "cell_type": "code",
   "execution_count": 21,
   "metadata": {},
   "outputs": [
    {
     "name": "stdout",
     "output_type": "stream",
     "text": [
      "Group 1: Mean = 37.5, Std = 43.6, n = 29\n",
      "Group 2: Mean = 93.0, Std = 125.4, n = 21\n",
      "t-statistic = -1.94\n",
      "Critical t-value = +or-2.07\n",
      "FAIL TO REJECT THE NULL HYPOTHESIS\n",
      "None\n"
     ]
    }
   ],
   "source": [
    "print(t_test(passenger_sales,car_sales))"
   ]
  },
  {
   "cell_type": "code",
   "execution_count": null,
   "metadata": {},
   "outputs": [],
   "source": []
  }
 ],
 "metadata": {
  "kernelspec": {
   "display_name": "base",
   "language": "python",
   "name": "python3"
  },
  "language_info": {
   "codemirror_mode": {
    "name": "ipython",
    "version": 3
   },
   "file_extension": ".py",
   "mimetype": "text/x-python",
   "name": "python",
   "nbconvert_exporter": "python",
   "pygments_lexer": "ipython3",
   "version": "3.12.7"
  }
 },
 "nbformat": 4,
 "nbformat_minor": 2
}
